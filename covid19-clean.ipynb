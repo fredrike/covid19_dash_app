{
 "cells": [
  {
   "cell_type": "code",
   "execution_count": 1,
   "metadata": {},
   "outputs": [
    {
     "data": {
      "text/html": [
       "<div>\n",
       "  <iframe src=\"/app/endpoints/77271b962d354948a453ec95a388c5a7/\" width=800 height=600 frameborder=\"0\"></iframe>\n",
       "  <hr/><a href=\"/app/endpoints/77271b962d354948a453ec95a388c5a7/\" target=\"_new\">Open in new window</a> for /app/endpoints/77271b962d354948a453ec95a388c5a7/\n",
       "</div>"
      ],
      "text/plain": [
       "<jupyter_plotly_dash.dash_wrapper.JupyterDash at 0x10ce82ac8>"
      ]
     },
     "execution_count": 1,
     "metadata": {},
     "output_type": "execute_result"
    }
   ],
   "source": [
    "import dash\n",
    "import dash_core_components as dcc\n",
    "import dash_html_components as html\n",
    "from dash.dependencies import Input, Output\n"
   ]
  },
  {
   "cell_type": "code",
   "execution_count": 2,
   "metadata": {},
   "outputs": [
    {
     "data": {
      "text/html": [
       "<div>\n",
       "<style scoped>\n",
       "    .dataframe tbody tr th:only-of-type {\n",
       "        vertical-align: middle;\n",
       "    }\n",
       "\n",
       "    .dataframe tbody tr th {\n",
       "        vertical-align: top;\n",
       "    }\n",
       "\n",
       "    .dataframe thead th {\n",
       "        text-align: right;\n",
       "    }\n",
       "</style>\n",
       "<table border=\"1\" class=\"dataframe\">\n",
       "  <thead>\n",
       "    <tr style=\"text-align: right;\">\n",
       "      <th></th>\n",
       "      <th></th>\n",
       "      <th>Total Confirmed Cases</th>\n",
       "      <th>Daily New Cases</th>\n",
       "      <th>Daily New Deaths</th>\n",
       "      <th>Total Deaths</th>\n",
       "      <th>Total Recoveries</th>\n",
       "      <th>Daily New Recoveries</th>\n",
       "      <th>Active Cases</th>\n",
       "      <th>Share of Recoveries - Closed Cases</th>\n",
       "      <th>Death to Cases Ratio</th>\n",
       "    </tr>\n",
       "    <tr>\n",
       "      <th>Country/Region</th>\n",
       "      <th>Date</th>\n",
       "      <th></th>\n",
       "      <th></th>\n",
       "      <th></th>\n",
       "      <th></th>\n",
       "      <th></th>\n",
       "      <th></th>\n",
       "      <th></th>\n",
       "      <th></th>\n",
       "      <th></th>\n",
       "    </tr>\n",
       "  </thead>\n",
       "  <tbody>\n",
       "    <tr>\n",
       "      <th rowspan=\"2\" valign=\"top\">Zimbabwe</th>\n",
       "      <th>2020-04-06</th>\n",
       "      <td>10</td>\n",
       "      <td>1.0</td>\n",
       "      <td>0.0</td>\n",
       "      <td>1</td>\n",
       "      <td>1</td>\n",
       "      <td>0.0</td>\n",
       "      <td>8</td>\n",
       "      <td>0.5</td>\n",
       "      <td>0.100</td>\n",
       "    </tr>\n",
       "    <tr>\n",
       "      <th>2020-04-07</th>\n",
       "      <td>11</td>\n",
       "      <td>1.0</td>\n",
       "      <td>1.0</td>\n",
       "      <td>2</td>\n",
       "      <td>2</td>\n",
       "      <td>1.0</td>\n",
       "      <td>7</td>\n",
       "      <td>0.5</td>\n",
       "      <td>0.182</td>\n",
       "    </tr>\n",
       "  </tbody>\n",
       "</table>\n",
       "</div>"
      ],
      "text/plain": [
       "                           Total Confirmed Cases  Daily New Cases  \\\n",
       "Country/Region Date                                                 \n",
       "Zimbabwe       2020-04-06                     10              1.0   \n",
       "               2020-04-07                     11              1.0   \n",
       "\n",
       "                           Daily New Deaths  Total Deaths  Total Recoveries  \\\n",
       "Country/Region Date                                                           \n",
       "Zimbabwe       2020-04-06               0.0             1                 1   \n",
       "               2020-04-07               1.0             2                 2   \n",
       "\n",
       "                           Daily New Recoveries  Active Cases  \\\n",
       "Country/Region Date                                             \n",
       "Zimbabwe       2020-04-06                   0.0             8   \n",
       "               2020-04-07                   1.0             7   \n",
       "\n",
       "                           Share of Recoveries - Closed Cases  \\\n",
       "Country/Region Date                                             \n",
       "Zimbabwe       2020-04-06                                 0.5   \n",
       "               2020-04-07                                 0.5   \n",
       "\n",
       "                           Death to Cases Ratio  \n",
       "Country/Region Date                              \n",
       "Zimbabwe       2020-04-06                 0.100  \n",
       "               2020-04-07                 0.182  "
      ]
     },
     "execution_count": 2,
     "metadata": {},
     "output_type": "execute_result"
    }
   ],
   "source": [
    "## Import Libraries\n",
    "import numpy as np\n",
    "import pandas as pd\n",
    "#%matplotlib inline\n",
    "import plotly.express as px\n",
    "import plotly.graph_objects as go\n",
    "from plotly.subplots import make_subplots\n",
    "\n",
    "## Read Data for Cases, Deaths and Recoveries\n",
    "ConfirmedCases_raw=pd.read_csv('https://raw.githubusercontent.com/CSSEGISandData/COVID-19/master/csse_covid_19_data/csse_covid_19_time_series/time_series_covid19_confirmed_global.csv')\n",
    "Deaths_raw=pd.read_csv('https://raw.githubusercontent.com/CSSEGISandData/COVID-19/master/csse_covid_19_data/csse_covid_19_time_series/time_series_covid19_deaths_global.csv')\n",
    "Recoveries_raw=pd.read_csv('https://raw.githubusercontent.com/CSSEGISandData/COVID-19/master/csse_covid_19_data/csse_covid_19_time_series/time_series_covid19_deaths_global.csv')\n",
    "\n",
    "### Melt the dateframe into the right shape and set index\n",
    "def cleandata(df_raw):\n",
    "    df_cleaned=df_raw.melt(id_vars=['Province/State','Country/Region','Lat','Long'],value_name='Cases',var_name='Date')\n",
    "    df_cleaned=df_cleaned.set_index(['Country/Region','Province/State','Date'])\n",
    "    return df_cleaned \n",
    "\n",
    "# Clean all datasets\n",
    "ConfirmedCases=cleandata(ConfirmedCases_raw)\n",
    "Deaths=cleandata(Deaths_raw)\n",
    "Recoveries=cleandata(Recoveries_raw)\n",
    "\n",
    "\n",
    "### Get Countrywise Data\n",
    "def countrydata(df_cleaned,oldname,newname):\n",
    "    df_country=df_cleaned.groupby(['Country/Region','Date'])['Cases'].sum().reset_index()\n",
    "    df_country=df_country.set_index(['Country/Region','Date'])\n",
    "    df_country.index=df_country.index.set_levels([df_country.index.levels[0], pd.to_datetime(df_country.index.levels[1])])\n",
    "    df_country=df_country.sort_values(['Country/Region','Date'],ascending=True)\n",
    "    df_country=df_country.rename(columns={oldname:newname})\n",
    "    return df_country\n",
    "  \n",
    "ConfirmedCasesCountry=countrydata(ConfirmedCases,'Cases','Total Confirmed Cases')\n",
    "DeathsCountry=countrydata(Deaths,'Cases','Total Deaths')\n",
    "RecoveriesCountry=countrydata(Recoveries,'Cases','Total Recoveries')\n",
    "\n",
    "### Get DailyData from Cumulative sum\n",
    "def dailydata(dfcountry,oldname,newname):\n",
    "    dfcountrydaily=dfcountry.groupby(level=0).diff().fillna(0)\n",
    "    dfcountrydaily=dfcountrydaily.rename(columns={oldname:newname})\n",
    "    return dfcountrydaily\n",
    "\n",
    "NewCasesCountry=dailydata(ConfirmedCasesCountry,'Total Confirmed Cases','Daily New Cases')\n",
    "NewDeathsCountry=dailydata(DeathsCountry,'Total Deaths','Daily New Deaths')\n",
    "NewRecoveriesCountry=dailydata(RecoveriesCountry,'Total Recoveries','Daily New Recoveries')\n",
    "\n",
    "CountryConsolidated=pd.merge(ConfirmedCasesCountry,NewCasesCountry,how='left',left_index=True,right_index=True)\n",
    "CountryConsolidated=pd.merge(CountryConsolidated,NewDeathsCountry,how='left',left_index=True,right_index=True)\n",
    "CountryConsolidated=pd.merge(CountryConsolidated,DeathsCountry,how='left',left_index=True,right_index=True)\n",
    "CountryConsolidated=pd.merge(CountryConsolidated,RecoveriesCountry,how='left',left_index=True,right_index=True)\n",
    "CountryConsolidated=pd.merge(CountryConsolidated,NewRecoveriesCountry,how='left',left_index=True,right_index=True)\n",
    "CountryConsolidated['Active Cases']=CountryConsolidated['Total Confirmed Cases']-CountryConsolidated['Total Deaths']-CountryConsolidated['Total Recoveries']\n",
    "CountryConsolidated['Share of Recoveries - Closed Cases']=np.round(CountryConsolidated['Total Recoveries']/(CountryConsolidated['Total Recoveries']+CountryConsolidated['Total Deaths']),2)\n",
    "CountryConsolidated['Death to Cases Ratio']=np.round(CountryConsolidated['Total Deaths']/CountryConsolidated['Total Confirmed Cases'],3)\n",
    "\n"
   ]
  },
  {
   "cell_type": "code",
   "execution_count": 6,
   "metadata": {},
   "outputs": [
    {
     "data": {
      "application/vnd.jupyter.widget-view+json": {
       "model_id": "e792eed7ce624423ac729b4319aaafe7",
       "version_major": 2,
       "version_minor": 0
      },
      "text/plain": [
       "interactive(children=(Dropdown(description='Country', options=('Germany', 'Sweden', 'US', 'Norway', 'Italy', '…"
      ]
     },
     "metadata": {},
     "output_type": "display_data"
    },
    {
     "data": {
      "text/plain": [
       "<function __main__.plotcountry(Country, limit=100)>"
      ]
     },
     "execution_count": 6,
     "metadata": {},
     "output_type": "execute_result"
    }
   ],
   "source": [
    "def plotcountry(Country, limit=100):\n",
    "    CountryConsolidated_new = CountryConsolidated[CountryConsolidated['Total Confirmed Cases'] >= limit]\n",
    "    fig = make_subplots(rows=3, cols=2,shared_xaxes=True,\n",
    "                    specs=[[{}, {}],[{},{}],\n",
    "                       [{\"colspan\": 2}, None]],\n",
    "                    subplot_titles=(f'Total Confirmed Cases in {Country}','Active Cases','Deaths','Recoveries','Death to Cases Ratio'))\n",
    "    fig.add_trace(go.Scatter(x=CountryConsolidated_new.loc[Country].index,y=CountryConsolidated_new.loc[Country,'Total Confirmed Cases'],\n",
    "                         mode='lines+markers',\n",
    "                         name='Confirmed Cases',\n",
    "                         line=dict(color=chartcol,width=2)),\n",
    "                         row=1,col=1)\n",
    "    fig.add_trace(go.Scatter(x=CountryConsolidated_new.loc[Country].index,y=CountryConsolidated_new.loc[Country,'Active Cases'],\n",
    "                         mode='lines+markers',\n",
    "                         name='Active Cases',\n",
    "                         line=dict(color=chartcol,width=2)),\n",
    "                         row=1,col=2)\n",
    "    fig.add_trace(go.Scatter(x=CountryConsolidated_new.loc[Country].index,y=CountryConsolidated_new.loc[Country,'Total Deaths'],\n",
    "                         mode='lines+markers',\n",
    "                         name='Total Deaths',\n",
    "                         line=dict(color=chartcol,width=2)),\n",
    "                         row=2,col=1)\n",
    "    fig.add_trace(go.Scatter(x=CountryConsolidated_new.loc[Country].index,y=CountryConsolidated_new.loc[Country,'Total Recoveries'],\n",
    "                         mode='lines+markers',\n",
    "                         name='Total Recoveries',\n",
    "                         line=dict(color=chartcol,width=2)),\n",
    "                         row=2,col=2)\n",
    "    fig.add_trace(go.Scatter(x=CountryConsolidated_new.loc[Country].index,y=CountryConsolidated_new.loc[Country,'Death to Cases Ratio'],\n",
    "                         mode='lines+markers',\n",
    "                         name='Death to Cases Ratio',\n",
    "                         line=dict(color=chartcol,width=2)),\n",
    "                         row=3,col=1)\n",
    "    fig.update_layout(showlegend=False)\n",
    "    \n",
    "    return fig\n",
    "CountriesList=['Germany','Sweden','US','Norway','Italy','France','Pakistan','South Korea','Japan','Singapore']\n"
   ]
  },
  {
   "cell_type": "code",
   "execution_count": 8,
   "metadata": {},
   "outputs": [
    {
     "data": {
      "application/vnd.jupyter.widget-view+json": {
       "model_id": "f52d5ed35d3047d582af6d1ee28f2077",
       "version_major": 2,
       "version_minor": 0
      },
      "text/plain": [
       "interactive(children=(Dropdown(description='Country_L', options=('Germany', 'Sweden', 'US', 'Norway', 'Italy',…"
      ]
     },
     "metadata": {},
     "output_type": "display_data"
    },
    {
     "data": {
      "text/plain": [
       "<function __main__.plotcountries(Country_L, Country_R, limit=100)>"
      ]
     },
     "execution_count": 8,
     "metadata": {},
     "output_type": "execute_result"
    }
   ],
   "source": [
    "def plotcountries(Country_L, Country_R, limit=100):\n",
    "    CC = CountryConsolidated.reset_index()\n",
    "    CC_L = CC[\n",
    "        (CC['Total Confirmed Cases'] >= limit) & (CC['Country/Region'] == Country_L)\n",
    "        ].reset_index(drop=True)\n",
    "    CC_R = CC[\n",
    "        (CC['Total Confirmed Cases'] >= limit) & (CC['Country/Region'] == Country_R)\n",
    "        ].reset_index(drop=True)\n",
    "    Countries = CC_L.append(CC_R).reset_index()\n",
    " \n",
    "    plots = ('Total Confirmed Cases','Active Cases','Total Deaths','Total Recoveries','Death to Cases Ratio')\n",
    "    fig = make_subplots(rows=3, cols=2,shared_xaxes=True,\n",
    "                    specs=[[{}, {}],[{},{}],\n",
    "                       [{\"colspan\": 2}, None]],\n",
    "                    subplot_titles=plots)\n",
    "    for i, sl in enumerate(plots):\n",
    "        for j, country in enumerate([Country_L, Country_R]):\n",
    "            fig.add_trace(\n",
    "                go.Scatter(\n",
    "                    x=Countries[Countries['Country/Region'] == country]['index'],\n",
    "                    y=Countries[Countries['Country/Region'] == country][sl],\n",
    "                    mode='lines+markers',\n",
    "                    name=country,\n",
    "                    #name='Confirmed Cases',\n",
    "                    line=dict(color=px.colors.qualitative.Plotly[j],width=2),\n",
    "                    legendgroup=\"group\",\n",
    "                    #color='Country/Region'\n",
    "                    showlegend = True if (i == 0) else False\n",
    "                ),\n",
    "                row=(int)(i/2)+1,\n",
    "                col=(i%2)+1\n",
    "            )\n",
    "    \n",
    "    return fig\n",
    "\n",
    "\n",
    "CountriesList=['Germany','Sweden','US','Norway','Italy','France','Pakistan','South Korea','Japan','Singapore']\n"
   ]
  },
  {
   "cell_type": "code",
   "execution_count": 14,
   "metadata": {
    "scrolled": true
   },
   "outputs": [
    {
     "data": {
      "text/html": [
       "<div>\n",
       "  <iframe src=\"/app/endpoints/9a89fbb671064248b06f8433124c4ff0/\" width=800 height=600 frameborder=\"0\"></iframe>\n",
       "  <hr/><a href=\"/app/endpoints/9a89fbb671064248b06f8433124c4ff0/\" target=\"_new\">Open in new window</a> for /app/endpoints/9a89fbb671064248b06f8433124c4ff0/\n",
       "</div>"
      ],
      "text/plain": [
       "<jupyter_plotly_dash.dash_wrapper.JupyterDash at 0x11cf093c8>"
      ]
     },
     "execution_count": 14,
     "metadata": {},
     "output_type": "execute_result"
    }
   ],
   "source": [
    "import dash_core_components as dcc\n",
    "\n",
    "external_stylesheets = ['https://codepen.io/chriddyp/pen/bWLwgP.css']\n",
    "\n",
    "3app = JupyterDash('SimpleExample')  # , external_stylesheets=external_stylesheets)\n",
    "app = dash.Dash(__name__, external_stylesheets=external_stylesheets)\n",
    "\n",
    "\n",
    "CountriesList=['Sweden','Germany','US','Norway','Denmark', 'Italy','France','Spain','South Korea','Japan']\n",
    "\n",
    "app.layout = html.Div([\n",
    "    dcc.Slider(id='filter-limit',\n",
    "        min=100,\n",
    "        max=1000,\n",
    "        value=100,\n",
    "        #marks={str(year): str(year) for year in df['Year'].unique()},\n",
    "        step=None,\n",
    "        tooltip= {'always_visible': True, 'placement': 'bottom'}\n",
    "    ),\n",
    "    html.Div([\n",
    "        dcc.Dropdown(\n",
    "            id='l_country',\n",
    "            options=[{'label': c, 'value': c}\n",
    "                     for c in CountriesList],\n",
    "            value=CountriesList[0]\n",
    "        ),\n",
    "        dcc.Graph(\n",
    "            id='l_graph',\n",
    "            # hoverData={'points': [{'customdata': 'Japan'}]}\n",
    "        ),\n",
    "    ], style={'width': '49%', 'display': 'inline-block'}),\n",
    "    html.Div([\n",
    "        dcc.Dropdown(\n",
    "            id='r_country',\n",
    "            options=[{'label': c, 'value': c}\n",
    "                     for c in CountriesList],\n",
    "            value=CountriesList[1]\n",
    "        ),\n",
    "        dcc.Graph(\n",
    "            id='r_graph',\n",
    "            # hoverData={'points': [{'customdata': 'Japan'}]}\n",
    "        ),\n",
    "    ], style={'width': '49%', 'display': 'inline-block', 'padding': '0 20'}),\n",
    "    html.Div([\n",
    "        dcc.Graph(\n",
    "            id='big_graph',\n",
    "            # hoverData={'points': [{'customdata': 'Japan'}]}\n",
    "        )]),        \n",
    "])\n",
    "\n",
    "@app.callback(\n",
    "    dash.dependencies.Output('l_graph', 'figure'),\n",
    "    [dash.dependencies.Input('l_country', 'value'),\n",
    "    dash.dependencies.Input('filter-limit', 'value'),])\n",
    "def callback_left(country, limit):\n",
    "    return plotcountry(country)\n",
    "\n",
    "@app.callback(\n",
    "    dash.dependencies.Output('r_graph', 'figure'),\n",
    "    [dash.dependencies.Input('r_country', 'value'),\n",
    "    dash.dependencies.Input('filter-limit', 'value'),])\n",
    "def callback_right(country, limit):\n",
    "    return plotcountry(country, limit)\n",
    "\n",
    "@app.callback(\n",
    "    dash.dependencies.Output('big_graph', 'figure'),\n",
    "    [dash.dependencies.Input('l_country', 'value'),\n",
    "     dash.dependencies.Input('r_country', 'value'),\n",
    "    dash.dependencies.Input('filter-limit', 'value'),])\n",
    "def callback_big(country_l, country_r, limit):\n",
    "    return plotcountries(country_l, country_r, limit)\n",
    "\n",
    "app"
   ]
  },
  {
   "cell_type": "code",
   "execution_count": 13,
   "metadata": {},
   "outputs": [
    {
     "ename": "SyntaxError",
     "evalue": "unexpected EOF while parsing (<ipython-input-13-7ee8003d98db>, line 19)",
     "output_type": "error",
     "traceback": [
      "\u001b[0;36m  File \u001b[0;32m\"<ipython-input-13-7ee8003d98db>\"\u001b[0;36m, line \u001b[0;32m19\u001b[0m\n\u001b[0;31m    style={'width': '49%', 'display': 'inline-block'}),\u001b[0m\n\u001b[0m                                                       ^\u001b[0m\n\u001b[0;31mSyntaxError\u001b[0m\u001b[0;31m:\u001b[0m unexpected EOF while parsing\n"
     ]
    }
   ],
   "source": [
    "app = JupyterDash('SimpleExample')\n",
    "\n",
    "app.layout = html.Div([\n",
    "    html.Div([\n",
    "\n",
    "        html.Div([\n",
    "            dcc.Dropdown(\n",
    "                id='crossfilter-xaxis-column',\n",
    "                options=[{'label': i, 'value': i} for i in available_indicators],\n",
    "                value='Fertility rate, total (births per woman)'\n",
    "            ),\n",
    "            dcc.RadioItems(\n",
    "                id='crossfilter-xaxis-type',\n",
    "                options=[{'label': i, 'value': i} for i in ['Linear', 'Log']],\n",
    "                value='Linear',\n",
    "                labelStyle={'display': 'inline-block'}\n",
    "            )\n",
    "        ],\n",
    "        style={'width': '49%', 'display': 'inline-block'}),\n"
   ]
  },
  {
   "cell_type": "code",
   "execution_count": null,
   "metadata": {},
   "outputs": [],
   "source": []
  }
 ],
 "metadata": {
  "kernelspec": {
   "display_name": "Python 3",
   "language": "python",
   "name": "python3"
  },
  "language_info": {
   "codemirror_mode": {
    "name": "ipython",
    "version": 3
   },
   "file_extension": ".py",
   "mimetype": "text/x-python",
   "name": "python",
   "nbconvert_exporter": "python",
   "pygments_lexer": "ipython3",
   "version": "3.7.1"
  }
 },
 "nbformat": 4,
 "nbformat_minor": 4
}
